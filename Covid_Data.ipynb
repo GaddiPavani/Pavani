{
  "cells": [
    {
      "cell_type": "code",
      "execution_count": null,
      "metadata": {
        "id": "mBIax3ouQ1qJ"
      },
      "outputs": [],
      "source": [
        "import pandas as pd"
      ]
    },
    {
      "cell_type": "code",
      "execution_count": null,
      "metadata": {
        "id": "cb4FnoqpRCxc"
      },
      "outputs": [],
      "source": [
        "df=pd.read_excel('/content/Covid_Data.xlsx')"
      ]
    },
    {
      "cell_type": "code",
      "execution_count": null,
      "metadata": {
        "colab": {
          "base_uri": "https://localhost:8080/",
          "height": 424
        },
        "id": "eomR2_qpRC0T",
        "outputId": "f36c1856-9826-42c6-879b-356ed32fd968"
      },
      "outputs": [
        {
          "data": {
            "application/vnd.google.colaboratory.intrinsic+json": {
              "summary": "{\n  \"name\": \"df\",\n  \"rows\": 28761,\n  \"fields\": [\n    {\n      \"column\": \"Date\",\n      \"properties\": {\n        \"dtype\": \"date\",\n        \"min\": \"1970-01-01 00:00:00\",\n        \"max\": \"2022-06-30 00:00:00\",\n        \"num_unique_values\": 813,\n        \"samples\": [\n          \"2020-11-29 00:00:00\",\n          \"2021-11-24 00:00:00\",\n          \"2020-11-09 00:00:00\"\n        ],\n        \"semantic_type\": \"\",\n        \"description\": \"\"\n      }\n    },\n    {\n      \"column\": \"State\",\n      \"properties\": {\n        \"dtype\": \"category\",\n        \"num_unique_values\": 37,\n        \"samples\": [\n          \"Ladakh\",\n          \"Jammu and Kashmir\",\n          \"Bihar\"\n        ],\n        \"semantic_type\": \"\",\n        \"description\": \"\"\n      }\n    },\n    {\n      \"column\": \"Confirmed Cases\",\n      \"properties\": {\n        \"dtype\": \"number\",\n        \"std\": 1165641,\n        \"min\": 0,\n        \"max\": 7972474,\n        \"num_unique_values\": 24156,\n        \"samples\": [\n          830373,\n          29401,\n          1005425\n        ],\n        \"semantic_type\": \"\",\n        \"description\": \"\"\n      }\n    },\n    {\n      \"column\": \"Active Cases\",\n      \"properties\": {\n        \"dtype\": \"number\",\n        \"std\": 45973,\n        \"min\": -140692,\n        \"max\": 701614,\n        \"num_unique_values\": 11954,\n        \"samples\": [\n          6136,\n          28152,\n          6708\n        ],\n        \"semantic_type\": \"\",\n        \"description\": \"\"\n      }\n    },\n    {\n      \"column\": \"Cured\",\n      \"properties\": {\n        \"dtype\": \"number\",\n        \"std\": 1133302.0161926907,\n        \"min\": 0.0,\n        \"max\": 7798817.0,\n        \"num_unique_values\": 23654,\n        \"samples\": [\n          63492.0,\n          204721.0,\n          429065.0\n        ],\n        \"semantic_type\": \"\",\n        \"description\": \"\"\n      }\n    },\n    {\n      \"column\": \"Death\",\n      \"properties\": {\n        \"dtype\": \"number\",\n        \"std\": 18304.97091074863,\n        \"min\": 0.0,\n        \"max\": 147922.0,\n        \"num_unique_values\": 9344,\n        \"samples\": [\n          35896.0,\n          1064.0,\n          1509.0\n        ],\n        \"semantic_type\": \"\",\n        \"description\": \"\"\n      }\n    }\n  ]\n}",
              "type": "dataframe",
              "variable_name": "df"
            },
            "text/html": [
              "\n",
              "  <div id=\"df-a4d15ea0-b45f-4abb-9be8-d0519315cb8c\" class=\"colab-df-container\">\n",
              "    <div>\n",
              "<style scoped>\n",
              "    .dataframe tbody tr th:only-of-type {\n",
              "        vertical-align: middle;\n",
              "    }\n",
              "\n",
              "    .dataframe tbody tr th {\n",
              "        vertical-align: top;\n",
              "    }\n",
              "\n",
              "    .dataframe thead th {\n",
              "        text-align: right;\n",
              "    }\n",
              "</style>\n",
              "<table border=\"1\" class=\"dataframe\">\n",
              "  <thead>\n",
              "    <tr style=\"text-align: right;\">\n",
              "      <th></th>\n",
              "      <th>Date</th>\n",
              "      <th>State</th>\n",
              "      <th>Confirmed Cases</th>\n",
              "      <th>Active Cases</th>\n",
              "      <th>Cured</th>\n",
              "      <th>Death</th>\n",
              "    </tr>\n",
              "  </thead>\n",
              "  <tbody>\n",
              "    <tr>\n",
              "      <th>0</th>\n",
              "      <td>2020-03-27</td>\n",
              "      <td>Andaman and Nicobar Islands</td>\n",
              "      <td>1</td>\n",
              "      <td>1</td>\n",
              "      <td>0.0</td>\n",
              "      <td>0.0</td>\n",
              "    </tr>\n",
              "    <tr>\n",
              "      <th>1</th>\n",
              "      <td>2020-03-28</td>\n",
              "      <td>Andaman and Nicobar Islands</td>\n",
              "      <td>6</td>\n",
              "      <td>6</td>\n",
              "      <td>0.0</td>\n",
              "      <td>0.0</td>\n",
              "    </tr>\n",
              "    <tr>\n",
              "      <th>2</th>\n",
              "      <td>2020-03-29</td>\n",
              "      <td>Andaman and Nicobar Islands</td>\n",
              "      <td>9</td>\n",
              "      <td>9</td>\n",
              "      <td>0.0</td>\n",
              "      <td>0.0</td>\n",
              "    </tr>\n",
              "    <tr>\n",
              "      <th>3</th>\n",
              "      <td>2020-03-30</td>\n",
              "      <td>Andaman and Nicobar Islands</td>\n",
              "      <td>9</td>\n",
              "      <td>9</td>\n",
              "      <td>0.0</td>\n",
              "      <td>0.0</td>\n",
              "    </tr>\n",
              "    <tr>\n",
              "      <th>4</th>\n",
              "      <td>2020-03-31</td>\n",
              "      <td>Andaman and Nicobar Islands</td>\n",
              "      <td>10</td>\n",
              "      <td>10</td>\n",
              "      <td>0.0</td>\n",
              "      <td>0.0</td>\n",
              "    </tr>\n",
              "    <tr>\n",
              "      <th>...</th>\n",
              "      <td>...</td>\n",
              "      <td>...</td>\n",
              "      <td>...</td>\n",
              "      <td>...</td>\n",
              "      <td>...</td>\n",
              "      <td>...</td>\n",
              "    </tr>\n",
              "    <tr>\n",
              "      <th>28756</th>\n",
              "      <td>2022-06-26</td>\n",
              "      <td>West Bengal</td>\n",
              "      <td>2024479</td>\n",
              "      <td>3496</td>\n",
              "      <td>1999767.0</td>\n",
              "      <td>21216.0</td>\n",
              "    </tr>\n",
              "    <tr>\n",
              "      <th>28757</th>\n",
              "      <td>2022-06-27</td>\n",
              "      <td>West Bengal</td>\n",
              "      <td>2024972</td>\n",
              "      <td>3777</td>\n",
              "      <td>1999979.0</td>\n",
              "      <td>21216.0</td>\n",
              "    </tr>\n",
              "    <tr>\n",
              "      <th>28758</th>\n",
              "      <td>2022-06-28</td>\n",
              "      <td>West Bengal</td>\n",
              "      <td>2025523</td>\n",
              "      <td>4080</td>\n",
              "      <td>2000227.0</td>\n",
              "      <td>21216.0</td>\n",
              "    </tr>\n",
              "    <tr>\n",
              "      <th>28759</th>\n",
              "      <td>2022-06-29</td>\n",
              "      <td>West Bengal</td>\n",
              "      <td>2026477</td>\n",
              "      <td>4759</td>\n",
              "      <td>2000502.0</td>\n",
              "      <td>21216.0</td>\n",
              "    </tr>\n",
              "    <tr>\n",
              "      <th>28760</th>\n",
              "      <td>2022-06-30</td>\n",
              "      <td>West Bengal</td>\n",
              "      <td>2027901</td>\n",
              "      <td>5885</td>\n",
              "      <td>2000798.0</td>\n",
              "      <td>21218.0</td>\n",
              "    </tr>\n",
              "  </tbody>\n",
              "</table>\n",
              "<p>28761 rows × 6 columns</p>\n",
              "</div>\n",
              "    <div class=\"colab-df-buttons\">\n",
              "\n",
              "  <div class=\"colab-df-container\">\n",
              "    <button class=\"colab-df-convert\" onclick=\"convertToInteractive('df-a4d15ea0-b45f-4abb-9be8-d0519315cb8c')\"\n",
              "            title=\"Convert this dataframe to an interactive table.\"\n",
              "            style=\"display:none;\">\n",
              "\n",
              "  <svg xmlns=\"http://www.w3.org/2000/svg\" height=\"24px\" viewBox=\"0 -960 960 960\">\n",
              "    <path d=\"M120-120v-720h720v720H120Zm60-500h600v-160H180v160Zm220 220h160v-160H400v160Zm0 220h160v-160H400v160ZM180-400h160v-160H180v160Zm440 0h160v-160H620v160ZM180-180h160v-160H180v160Zm440 0h160v-160H620v160Z\"/>\n",
              "  </svg>\n",
              "    </button>\n",
              "\n",
              "  <style>\n",
              "    .colab-df-container {\n",
              "      display:flex;\n",
              "      gap: 12px;\n",
              "    }\n",
              "\n",
              "    .colab-df-convert {\n",
              "      background-color: #E8F0FE;\n",
              "      border: none;\n",
              "      border-radius: 50%;\n",
              "      cursor: pointer;\n",
              "      display: none;\n",
              "      fill: #1967D2;\n",
              "      height: 32px;\n",
              "      padding: 0 0 0 0;\n",
              "      width: 32px;\n",
              "    }\n",
              "\n",
              "    .colab-df-convert:hover {\n",
              "      background-color: #E2EBFA;\n",
              "      box-shadow: 0px 1px 2px rgba(60, 64, 67, 0.3), 0px 1px 3px 1px rgba(60, 64, 67, 0.15);\n",
              "      fill: #174EA6;\n",
              "    }\n",
              "\n",
              "    .colab-df-buttons div {\n",
              "      margin-bottom: 4px;\n",
              "    }\n",
              "\n",
              "    [theme=dark] .colab-df-convert {\n",
              "      background-color: #3B4455;\n",
              "      fill: #D2E3FC;\n",
              "    }\n",
              "\n",
              "    [theme=dark] .colab-df-convert:hover {\n",
              "      background-color: #434B5C;\n",
              "      box-shadow: 0px 1px 3px 1px rgba(0, 0, 0, 0.15);\n",
              "      filter: drop-shadow(0px 1px 2px rgba(0, 0, 0, 0.3));\n",
              "      fill: #FFFFFF;\n",
              "    }\n",
              "  </style>\n",
              "\n",
              "    <script>\n",
              "      const buttonEl =\n",
              "        document.querySelector('#df-a4d15ea0-b45f-4abb-9be8-d0519315cb8c button.colab-df-convert');\n",
              "      buttonEl.style.display =\n",
              "        google.colab.kernel.accessAllowed ? 'block' : 'none';\n",
              "\n",
              "      async function convertToInteractive(key) {\n",
              "        const element = document.querySelector('#df-a4d15ea0-b45f-4abb-9be8-d0519315cb8c');\n",
              "        const dataTable =\n",
              "          await google.colab.kernel.invokeFunction('convertToInteractive',\n",
              "                                                    [key], {});\n",
              "        if (!dataTable) return;\n",
              "\n",
              "        const docLinkHtml = 'Like what you see? Visit the ' +\n",
              "          '<a target=\"_blank\" href=https://colab.research.google.com/notebooks/data_table.ipynb>data table notebook</a>'\n",
              "          + ' to learn more about interactive tables.';\n",
              "        element.innerHTML = '';\n",
              "        dataTable['output_type'] = 'display_data';\n",
              "        await google.colab.output.renderOutput(dataTable, element);\n",
              "        const docLink = document.createElement('div');\n",
              "        docLink.innerHTML = docLinkHtml;\n",
              "        element.appendChild(docLink);\n",
              "      }\n",
              "    </script>\n",
              "  </div>\n",
              "\n",
              "\n",
              "<div id=\"df-6aa01a87-fe51-4031-81e1-5f8bd755207c\">\n",
              "  <button class=\"colab-df-quickchart\" onclick=\"quickchart('df-6aa01a87-fe51-4031-81e1-5f8bd755207c')\"\n",
              "            title=\"Suggest charts\"\n",
              "            style=\"display:none;\">\n",
              "\n",
              "<svg xmlns=\"http://www.w3.org/2000/svg\" height=\"24px\"viewBox=\"0 0 24 24\"\n",
              "     width=\"24px\">\n",
              "    <g>\n",
              "        <path d=\"M19 3H5c-1.1 0-2 .9-2 2v14c0 1.1.9 2 2 2h14c1.1 0 2-.9 2-2V5c0-1.1-.9-2-2-2zM9 17H7v-7h2v7zm4 0h-2V7h2v10zm4 0h-2v-4h2v4z\"/>\n",
              "    </g>\n",
              "</svg>\n",
              "  </button>\n",
              "\n",
              "<style>\n",
              "  .colab-df-quickchart {\n",
              "      --bg-color: #E8F0FE;\n",
              "      --fill-color: #1967D2;\n",
              "      --hover-bg-color: #E2EBFA;\n",
              "      --hover-fill-color: #174EA6;\n",
              "      --disabled-fill-color: #AAA;\n",
              "      --disabled-bg-color: #DDD;\n",
              "  }\n",
              "\n",
              "  [theme=dark] .colab-df-quickchart {\n",
              "      --bg-color: #3B4455;\n",
              "      --fill-color: #D2E3FC;\n",
              "      --hover-bg-color: #434B5C;\n",
              "      --hover-fill-color: #FFFFFF;\n",
              "      --disabled-bg-color: #3B4455;\n",
              "      --disabled-fill-color: #666;\n",
              "  }\n",
              "\n",
              "  .colab-df-quickchart {\n",
              "    background-color: var(--bg-color);\n",
              "    border: none;\n",
              "    border-radius: 50%;\n",
              "    cursor: pointer;\n",
              "    display: none;\n",
              "    fill: var(--fill-color);\n",
              "    height: 32px;\n",
              "    padding: 0;\n",
              "    width: 32px;\n",
              "  }\n",
              "\n",
              "  .colab-df-quickchart:hover {\n",
              "    background-color: var(--hover-bg-color);\n",
              "    box-shadow: 0 1px 2px rgba(60, 64, 67, 0.3), 0 1px 3px 1px rgba(60, 64, 67, 0.15);\n",
              "    fill: var(--button-hover-fill-color);\n",
              "  }\n",
              "\n",
              "  .colab-df-quickchart-complete:disabled,\n",
              "  .colab-df-quickchart-complete:disabled:hover {\n",
              "    background-color: var(--disabled-bg-color);\n",
              "    fill: var(--disabled-fill-color);\n",
              "    box-shadow: none;\n",
              "  }\n",
              "\n",
              "  .colab-df-spinner {\n",
              "    border: 2px solid var(--fill-color);\n",
              "    border-color: transparent;\n",
              "    border-bottom-color: var(--fill-color);\n",
              "    animation:\n",
              "      spin 1s steps(1) infinite;\n",
              "  }\n",
              "\n",
              "  @keyframes spin {\n",
              "    0% {\n",
              "      border-color: transparent;\n",
              "      border-bottom-color: var(--fill-color);\n",
              "      border-left-color: var(--fill-color);\n",
              "    }\n",
              "    20% {\n",
              "      border-color: transparent;\n",
              "      border-left-color: var(--fill-color);\n",
              "      border-top-color: var(--fill-color);\n",
              "    }\n",
              "    30% {\n",
              "      border-color: transparent;\n",
              "      border-left-color: var(--fill-color);\n",
              "      border-top-color: var(--fill-color);\n",
              "      border-right-color: var(--fill-color);\n",
              "    }\n",
              "    40% {\n",
              "      border-color: transparent;\n",
              "      border-right-color: var(--fill-color);\n",
              "      border-top-color: var(--fill-color);\n",
              "    }\n",
              "    60% {\n",
              "      border-color: transparent;\n",
              "      border-right-color: var(--fill-color);\n",
              "    }\n",
              "    80% {\n",
              "      border-color: transparent;\n",
              "      border-right-color: var(--fill-color);\n",
              "      border-bottom-color: var(--fill-color);\n",
              "    }\n",
              "    90% {\n",
              "      border-color: transparent;\n",
              "      border-bottom-color: var(--fill-color);\n",
              "    }\n",
              "  }\n",
              "</style>\n",
              "\n",
              "  <script>\n",
              "    async function quickchart(key) {\n",
              "      const quickchartButtonEl =\n",
              "        document.querySelector('#' + key + ' button');\n",
              "      quickchartButtonEl.disabled = true;  // To prevent multiple clicks.\n",
              "      quickchartButtonEl.classList.add('colab-df-spinner');\n",
              "      try {\n",
              "        const charts = await google.colab.kernel.invokeFunction(\n",
              "            'suggestCharts', [key], {});\n",
              "      } catch (error) {\n",
              "        console.error('Error during call to suggestCharts:', error);\n",
              "      }\n",
              "      quickchartButtonEl.classList.remove('colab-df-spinner');\n",
              "      quickchartButtonEl.classList.add('colab-df-quickchart-complete');\n",
              "    }\n",
              "    (() => {\n",
              "      let quickchartButtonEl =\n",
              "        document.querySelector('#df-6aa01a87-fe51-4031-81e1-5f8bd755207c button');\n",
              "      quickchartButtonEl.style.display =\n",
              "        google.colab.kernel.accessAllowed ? 'block' : 'none';\n",
              "    })();\n",
              "  </script>\n",
              "</div>\n",
              "\n",
              "  <div id=\"id_11712abc-b4d0-4fed-9efb-03527af866a2\">\n",
              "    <style>\n",
              "      .colab-df-generate {\n",
              "        background-color: #E8F0FE;\n",
              "        border: none;\n",
              "        border-radius: 50%;\n",
              "        cursor: pointer;\n",
              "        display: none;\n",
              "        fill: #1967D2;\n",
              "        height: 32px;\n",
              "        padding: 0 0 0 0;\n",
              "        width: 32px;\n",
              "      }\n",
              "\n",
              "      .colab-df-generate:hover {\n",
              "        background-color: #E2EBFA;\n",
              "        box-shadow: 0px 1px 2px rgba(60, 64, 67, 0.3), 0px 1px 3px 1px rgba(60, 64, 67, 0.15);\n",
              "        fill: #174EA6;\n",
              "      }\n",
              "\n",
              "      [theme=dark] .colab-df-generate {\n",
              "        background-color: #3B4455;\n",
              "        fill: #D2E3FC;\n",
              "      }\n",
              "\n",
              "      [theme=dark] .colab-df-generate:hover {\n",
              "        background-color: #434B5C;\n",
              "        box-shadow: 0px 1px 3px 1px rgba(0, 0, 0, 0.15);\n",
              "        filter: drop-shadow(0px 1px 2px rgba(0, 0, 0, 0.3));\n",
              "        fill: #FFFFFF;\n",
              "      }\n",
              "    </style>\n",
              "    <button class=\"colab-df-generate\" onclick=\"generateWithVariable('df')\"\n",
              "            title=\"Generate code using this dataframe.\"\n",
              "            style=\"display:none;\">\n",
              "\n",
              "  <svg xmlns=\"http://www.w3.org/2000/svg\" height=\"24px\"viewBox=\"0 0 24 24\"\n",
              "       width=\"24px\">\n",
              "    <path d=\"M7,19H8.4L18.45,9,17,7.55,7,17.6ZM5,21V16.75L18.45,3.32a2,2,0,0,1,2.83,0l1.4,1.43a1.91,1.91,0,0,1,.58,1.4,1.91,1.91,0,0,1-.58,1.4L9.25,21ZM18.45,9,17,7.55Zm-12,3A5.31,5.31,0,0,0,4.9,8.1,5.31,5.31,0,0,0,1,6.5,5.31,5.31,0,0,0,4.9,4.9,5.31,5.31,0,0,0,6.5,1,5.31,5.31,0,0,0,8.1,4.9,5.31,5.31,0,0,0,12,6.5,5.46,5.46,0,0,0,6.5,12Z\"/>\n",
              "  </svg>\n",
              "    </button>\n",
              "    <script>\n",
              "      (() => {\n",
              "      const buttonEl =\n",
              "        document.querySelector('#id_11712abc-b4d0-4fed-9efb-03527af866a2 button.colab-df-generate');\n",
              "      buttonEl.style.display =\n",
              "        google.colab.kernel.accessAllowed ? 'block' : 'none';\n",
              "\n",
              "      buttonEl.onclick = () => {\n",
              "        google.colab.notebook.generateWithVariable('df');\n",
              "      }\n",
              "      })();\n",
              "    </script>\n",
              "  </div>\n",
              "\n",
              "    </div>\n",
              "  </div>\n"
            ],
            "text/plain": [
              "            Date                        State  Confirmed Cases  Active Cases  \\\n",
              "0     2020-03-27  Andaman and Nicobar Islands                1             1   \n",
              "1     2020-03-28  Andaman and Nicobar Islands                6             6   \n",
              "2     2020-03-29  Andaman and Nicobar Islands                9             9   \n",
              "3     2020-03-30  Andaman and Nicobar Islands                9             9   \n",
              "4     2020-03-31  Andaman and Nicobar Islands               10            10   \n",
              "...          ...                          ...              ...           ...   \n",
              "28756 2022-06-26                  West Bengal          2024479          3496   \n",
              "28757 2022-06-27                  West Bengal          2024972          3777   \n",
              "28758 2022-06-28                  West Bengal          2025523          4080   \n",
              "28759 2022-06-29                  West Bengal          2026477          4759   \n",
              "28760 2022-06-30                  West Bengal          2027901          5885   \n",
              "\n",
              "           Cured    Death  \n",
              "0            0.0      0.0  \n",
              "1            0.0      0.0  \n",
              "2            0.0      0.0  \n",
              "3            0.0      0.0  \n",
              "4            0.0      0.0  \n",
              "...          ...      ...  \n",
              "28756  1999767.0  21216.0  \n",
              "28757  1999979.0  21216.0  \n",
              "28758  2000227.0  21216.0  \n",
              "28759  2000502.0  21216.0  \n",
              "28760  2000798.0  21218.0  \n",
              "\n",
              "[28761 rows x 6 columns]"
            ]
          },
          "execution_count": 3,
          "metadata": {},
          "output_type": "execute_result"
        }
      ],
      "source": [
        "df\n"
      ]
    },
    {
      "cell_type": "code",
      "execution_count": null,
      "metadata": {
        "colab": {
          "base_uri": "https://localhost:8080/"
        },
        "id": "tb1o72T6VPOp",
        "outputId": "0763f238-dca4-46d1-e06d-d1a6c63d7007"
      },
      "outputs": [
        {
          "name": "stdout",
          "output_type": "stream",
          "text": [
            "<class 'pandas.core.frame.DataFrame'>\n",
            "RangeIndex: 28761 entries, 0 to 28760\n",
            "Data columns (total 6 columns):\n",
            " #   Column           Non-Null Count  Dtype         \n",
            "---  ------           --------------  -----         \n",
            " 0   Date             28761 non-null  datetime64[ns]\n",
            " 1   State            28761 non-null  object        \n",
            " 2   Confirmed Cases  28761 non-null  int64         \n",
            " 3   Active Cases     28761 non-null  int64         \n",
            " 4   Cured            28760 non-null  float64       \n",
            " 5   Death            28760 non-null  float64       \n",
            "dtypes: datetime64[ns](1), float64(2), int64(2), object(1)\n",
            "memory usage: 1.3+ MB\n"
          ]
        }
      ],
      "source": [
        "df.info()"
      ]
    },
    {
      "cell_type": "code",
      "execution_count": null,
      "metadata": {
        "colab": {
          "base_uri": "https://localhost:8080/",
          "height": 482
        },
        "id": "1nHhjaKnUhLm",
        "outputId": "0acdefe9-f0f0-465f-b2fd-8113ab5f02dd"
      },
      "outputs": [
        {
          "data": {
            "text/plain": [
              "<Axes: xlabel='State', ylabel='Active Cases'>"
            ]
          },
          "execution_count": 5,
          "metadata": {},
          "output_type": "execute_result"
        },
        {
          "data": {
            "image/png": "[encoded data removed]",
            "text/plain": [
              "<Figure size 640x480 with 1 Axes>"
            ]
          },
          "metadata": {},
          "output_type": "display_data"
        }
      ],
      "source": [
        "import seaborn as sns\n",
        "df_new=df.groupby('State')['Active Cases'].sum()\n",
        "df_new=df_new.sort_values(ascending=False).head(5)\n",
        "sns.barplot(data=df_new)\n"
      ]
    },
    {
      "cell_type": "code",
      "execution_count": null,
      "metadata": {
        "colab": {
          "base_uri": "https://localhost:8080/"
        },
        "id": "6qL8bI8wUhHe",
        "outputId": "29b86992-5259-48a3-c1e2-e918a05704c2"
      },
      "outputs": [
        {
          "name": "stdout",
          "output_type": "stream",
          "text": [
            "                                       State  Active Cases\n",
            "0                Andaman and Nicobar Islands         78553\n",
            "1                             Andhra Pradesh      22001587\n",
            "2                          Arunachal Pradesh        663208\n",
            "3                                      Assam       7845602\n",
            "4                                      Bihar       6567287\n",
            "5                                 Chandigarh        782122\n",
            "6                               Chhattisgarh      10943686\n",
            "7   Dadra and Nagar Haveli and Daman and Diu        101326\n",
            "8                                      Delhi      10865007\n",
            "9                                        Goa       2313129\n",
            "10                                   Gujarat      11332610\n",
            "11                                   Haryana       7622561\n",
            "12                          Himachal Pradesh       2570465\n",
            "13                         Jammu and Kashmir       4956173\n",
            "14                                 Jharkhand       3969783\n",
            "15                                 Karnataka      46067883\n",
            "16                                    Kerala      60837834\n",
            "17                                    Ladakh        303709\n",
            "18                               Lakshadweep         94995\n",
            "19                            Madhya Pradesh       8712487\n",
            "20                               Maharashtra      90912115\n",
            "21                                   Manipur       1509642\n",
            "22                                 Meghalaya        907798\n",
            "23                                   Mizoram       2378665\n",
            "24                                  Nagaland        529179\n",
            "25                                    Odisha      10459216\n",
            "26                                Puducherry       1610108\n",
            "27                                    Punjab       6671581\n",
            "28                                 Rajasthan      12732043\n",
            "29                                    Sikkim        489594\n",
            "30                  State assignment pending        347959\n",
            "31                                Tamil Nadu      28627946\n",
            "32                                 Telangana       9301690\n",
            "33                                   Tripura       1084812\n",
            "34                             Uttar Pradesh      19302136\n",
            "35                               Uttarakhand       4557304\n",
            "36                               West Bengal      15632643\n"
          ]
        }
      ],
      "source": [
        "state=df.groupby(['State'],as_index=False)['Active Cases'].sum()\n",
        "print(state)"
      ]
    },
    {
      "cell_type": "code",
      "execution_count": null,
      "metadata": {
        "colab": {
          "base_uri": "https://localhost:8080/"
        },
        "id": "HexoGY4gUhDn",
        "outputId": "ac776356-23f9-447f-a064-a576abca55a1"
      },
      "outputs": [
        {
          "name": "stdout",
          "output_type": "stream",
          "text": [
            "                         State  Active Cases\n",
            "0  Andaman and Nicobar Islands         78553\n",
            "1               Andhra Pradesh      22001587\n",
            "2            Arunachal Pradesh        663208\n",
            "3                        Assam       7845602\n",
            "4                        Bihar       6567287\n"
          ]
        }
      ],
      "source": [
        "state=df.groupby(['State'],as_index=False)['Active Cases'].sum().head(5)\n",
        "print(state)"
      ]
    },
    {
      "cell_type": "code",
      "execution_count": null,
      "metadata": {
        "colab": {
          "base_uri": "https://localhost:8080/"
        },
        "id": "oM9iHTxNUg-l",
        "outputId": "c17292bb-cbc0-4edd-e228-f0dc81672803"
      },
      "outputs": [
        {
          "name": "stdout",
          "output_type": "stream",
          "text": [
            "                         State      Death\n",
            "0  Andaman and Nicobar Islands    65355.0\n",
            "1               Andhra Pradesh  7279421.0\n",
            "2            Arunachal Pradesh   113247.0\n",
            "3                        Assam  2627089.0\n",
            "4                        Bihar  4545442.0\n"
          ]
        }
      ],
      "source": [
        "state=df.groupby(['State'],as_index=False)['Death'].sum().head(5)\n",
        "print(state)"
      ]
    },
    {
      "cell_type": "code",
      "execution_count": null,
      "metadata": {
        "colab": {
          "base_uri": "https://localhost:8080/"
        },
        "id": "gRG5phLFUg5G",
        "outputId": "aac16969-d89b-4af4-dce0-32ac7968c6f1"
      },
      "outputs": [
        {
          "name": "stdout",
          "output_type": "stream",
          "text": [
            "                                       State       Death\n",
            "0                Andaman and Nicobar Islands     65355.0\n",
            "1                             Andhra Pradesh   7279421.0\n",
            "2                          Arunachal Pradesh    113247.0\n",
            "3                                      Assam   2627089.0\n",
            "4                                      Bihar   4545442.0\n",
            "5                                 Chandigarh    456227.0\n",
            "6                               Chhattisgarh   6215568.0\n",
            "7   Dadra and Nagar Haveli and Daman and Diu      2218.0\n",
            "8                                      Delhi  12620945.0\n",
            "9                                        Goa   1526570.0\n",
            "10                                   Gujarat   5361973.0\n",
            "11                                   Haryana   4588262.0\n",
            "12                          Himachal Pradesh   1679903.0\n",
            "13                         Jammu and Kashmir   2218768.0\n",
            "14                                 Jharkhand   2324363.0\n",
            "15                                 Karnataka  17801862.0\n",
            "16                                    Kerala  17050171.0\n",
            "17                                    Ladakh    111337.0\n",
            "18                               Lakshadweep     19538.0\n",
            "19                            Madhya Pradesh   4980715.0\n",
            "20                               Maharashtra  66847374.0\n",
            "21                                   Manipur    781575.0\n",
            "22                                 Meghalaya    558231.0\n",
            "23                                   Mizoram    173862.0\n",
            "24                                  Nagaland    274927.0\n",
            "25                                    Odisha   3407620.0\n",
            "26                                Puducherry    884902.0\n",
            "27                                    Punjab   7928213.0\n",
            "28                                 Rajasthan   4249951.0\n",
            "29                                    Sikkim    179779.0\n",
            "30                  State assignment pending         0.0\n",
            "31                                Tamil Nadu  17041052.0\n",
            "32                                 Telangana   1960374.0\n",
            "33                                   Tripura    410734.0\n",
            "34                             Uttar Pradesh  11100241.0\n",
            "35                               Uttarakhand   3258135.0\n",
            "36                               West Bengal   9884937.0\n"
          ]
        }
      ],
      "source": [
        "state=df.groupby(['State'],as_index=False)['Death'].sum()\n",
        "print(state)"
      ]
    },
    {
      "cell_type": "code",
      "execution_count": null,
      "metadata": {
        "colab": {
          "base_uri": "https://localhost:8080/"
        },
        "id": "NXUjhCZTYZzw",
        "outputId": "aab80a0f-8482-4555-ac31-d5b5325f540f"
      },
      "outputs": [
        {
          "name": "stdout",
          "output_type": "stream",
          "text": [
            "<class 'pandas.core.series.Series'>\n",
            "Index: 5 entries, Maharashtra to Andhra Pradesh\n",
            "Series name: Active Cases\n",
            "Non-Null Count  Dtype\n",
            "--------------  -----\n",
            "5 non-null      int64\n",
            "dtypes: int64(1)\n",
            "memory usage: 80.0+ bytes\n"
          ]
        }
      ],
      "source": [
        "import seaborn as sns\n",
        "import matplotlib.pyplot as plt\n",
        "df_new=df.groupby('State')['Active Cases'].sum()\n",
        "df_new=df_new.sort_values(ascending=False).head(5)\n",
        "df_new.info()\n"
      ]
    },
    {
      "cell_type": "code",
      "execution_count": null,
      "metadata": {
        "colab": {
          "base_uri": "https://localhost:8080/",
          "height": 568
        },
        "id": "38Mb6zG0YZub",
        "outputId": "23056134-a5eb-4022-c871-6a82601ebc01"
      },
      "outputs": [
        {
          "data": {
            "image/png": "[encoded data removed]",
            "text/plain": [
              "<Figure size 640x480 with 1 Axes>"
            ]
          },
          "metadata": {},
          "output_type": "display_data"
        }
      ],
      "source": [
        "import seaborn as sns\n",
        "import matplotlib.pyplot as plt\n",
        "df_new=df.groupby('State')['Active Cases'].sum()\n",
        "df_new=df_new.sort_values(ascending=False).head(10)\n",
        "df_new.plot(kind=\"bar\")\n",
        "plt.title(\"ActiveCases vs State\")\n",
        "plt.xlabel(\"ActiveCases\")\n",
        "plt.ylabel(\"State\")\n",
        "plt.show()"
      ]
    },
    {
      "cell_type": "code",
      "execution_count": null,
      "metadata": {
        "colab": {
          "base_uri": "https://localhost:8080/"
        },
        "id": "Gqd0JaeCYZng",
        "outputId": "dc710ff3-68c5-402d-882c-45e63f0609d9"
      },
      "outputs": [
        {
          "name": "stdout",
          "output_type": "stream",
          "text": [
            "        Date  Active Cases\n",
            "0 1970-01-01         91448\n",
            "1 2014-12-21         88986\n",
            "2 2015-12-21         87557\n",
            "3 2020-03-12            71\n",
            "4 2020-03-13            71\n"
          ]
        }
      ],
      "source": [
        "date=df.groupby(['Date'],as_index=False)['Active Cases'].sum().head(5)\n",
        "print(date)"
      ]
    },
    {
      "cell_type": "code",
      "execution_count": null,
      "metadata": {
        "colab": {
          "base_uri": "https://localhost:8080/"
        },
        "id": "JG0EF1CWdH7r",
        "outputId": "6b22ed72-feea-4eb9-f5ca-23e40df8a595"
      },
      "outputs": [
        {
          "name": "stdout",
          "output_type": "stream",
          "text": [
            "                         State         Cured\n",
            "0  Andaman and Nicobar Islands  4.417936e+06\n",
            "1               Andhra Pradesh  1.018732e+09\n",
            "2            Arunachal Pradesh  2.435250e+07\n",
            "3                        Assam  2.899681e+08\n",
            "4                        Bihar  3.568348e+08\n"
          ]
        }
      ],
      "source": [
        "state=df.groupby(['State'],as_index=False)['Cured'].sum().head(5)\n",
        "print(state)"
      ]
    },
    {
      "cell_type": "code",
      "execution_count": null,
      "metadata": {
        "colab": {
          "base_uri": "https://localhost:8080/"
        },
        "id": "WeXCrj_1dij-",
        "outputId": "b82aeaef-2c92-4b8e-c65b-d0ac66bc0ee3"
      },
      "outputs": [
        {
          "name": "stdout",
          "output_type": "stream",
          "text": [
            "                         State  Active Cases\n",
            "0  Andaman and Nicobar Islands         78553\n",
            "1               Andhra Pradesh      22001587\n",
            "2            Arunachal Pradesh        663208\n",
            "3                        Assam       7845602\n",
            "4                        Bihar       6567287\n"
          ]
        }
      ],
      "source": [
        "state=df.groupby(['State'],as_index=False)['Active Cases',].sum().head(5)\n",
        "print(state)"
      ]
    },
    {
      "cell_type": "code",
      "execution_count": null,
      "metadata": {
        "colab": {
          "base_uri": "https://localhost:8080/"
        },
        "id": "mrRL6Q5tYZei",
        "outputId": "a3968885-a707-41d8-a60f-6a8bd2fdd43e"
      },
      "outputs": [
        {
          "name": "stdout",
          "output_type": "stream",
          "text": [
            "        Date  Confirmed Cases\n",
            "0 1970-01-01         34690162\n",
            "1 2014-12-21         34695946\n",
            "2 2015-12-21         34702930\n",
            "3 2020-03-12               74\n",
            "4 2020-03-13               75\n"
          ]
        }
      ],
      "source": [
        "date=df.groupby(['Date'],as_index=False)['Confirmed Cases'].sum().head(5)\n",
        "print(date)\n"
      ]
    },
    {
      "cell_type": "code",
      "execution_count": null,
      "metadata": {
        "colab": {
          "base_uri": "https://localhost:8080/",
          "height": 502
        },
        "id": "mfVHIl6gcZK3",
        "outputId": "8abbd58b-740a-47a5-a2a5-751107c47c5b"
      },
      "outputs": [
        {
          "data": {
            "image/png": "[encoded data removed]",
            "text/plain": [
              "<Figure size 640x480 with 1 Axes>"
            ]
          },
          "metadata": {},
          "output_type": "display_data"
        }
      ],
      "source": [
        "import seaborn as sns\n",
        "import matplotlib.pyplot as plt\n",
        "df_new=df.groupby('Active Cases')['Cured'].sum()\n",
        "df_new=df_new.sort_values(ascending=False).head(10)\n",
        "df_new.plot(kind=\"bar\")\n",
        "plt.title(\"cured vs Active Cases\")\n",
        "plt.xlabel(\"Active cases\")\n",
        "plt.ylabel(\"cured\")\n",
        "plt.show()"
      ]
    },
    {
      "cell_type": "code",
      "execution_count": null,
      "metadata": {
        "id": "jdRmtS5JePLP"
      },
      "outputs": [],
      "source": [
        "data={\"Name\":[\"A\",\"B\",\"C\",\"D\",\"E\"],\"Gender\":[\"F\",\"M\",\"M\",\"M\",\"F\",],\"Age\":[25,30,22,35,28],\"Heignt(In cm)\":[165,180,175,160,170],\"Weight(In kg)\":[55,75,70,68,60]}"
      ]
    },
    {
      "cell_type": "code",
      "execution_count": null,
      "metadata": {
        "colab": {
          "base_uri": "https://localhost:8080/",
          "height": 211
        },
        "id": "QjxTf32icZFf",
        "outputId": "baa3c7bd-a6ee-4136-fe79-bb8c6073c179"
      },
      "outputs": [
        {
          "output_type": "error",
          "ename": "NameError",
          "evalue": "name 'pd' is not defined",
          "traceback": [
            "\u001b[0;31m---------------------------------------------------------------------------\u001b[0m",
            "\u001b[0;31mNameError\u001b[0m                                 Traceback (most recent call last)",
            "\u001b[0;32m<ipython-input-1-815faf0fbda5>\u001b[0m in \u001b[0;36m<cell line: 2>\u001b[0;34m()\u001b[0m\n\u001b[1;32m      1\u001b[0m \u001b[0;32mimport\u001b[0m \u001b[0mrandom\u001b[0m\u001b[0;34m\u001b[0m\u001b[0;34m\u001b[0m\u001b[0m\n\u001b[0;32m----> 2\u001b[0;31m \u001b[0mdf\u001b[0m\u001b[0;34m=\u001b[0m\u001b[0mpd\u001b[0m\u001b[0;34m.\u001b[0m\u001b[0mDataFrame\u001b[0m\u001b[0;34m(\u001b[0m\u001b[0mdata\u001b[0m\u001b[0;34m)\u001b[0m\u001b[0;34m\u001b[0m\u001b[0;34m\u001b[0m\u001b[0m\n\u001b[0m\u001b[1;32m      3\u001b[0m \u001b[0;32mfor\u001b[0m \u001b[0m_\u001b[0m \u001b[0;32min\u001b[0m \u001b[0mrange\u001b[0m\u001b[0;34m(\u001b[0m\u001b[0;36m5\u001b[0m\u001b[0;34m)\u001b[0m\u001b[0;34m:\u001b[0m\u001b[0;34m\u001b[0m\u001b[0;34m\u001b[0m\u001b[0m\n\u001b[1;32m      4\u001b[0m   \u001b[0mname\u001b[0m\u001b[0;34m=\u001b[0m\u001b[0;34m''\u001b[0m\u001b[0;34m.\u001b[0m\u001b[0mjoin\u001b[0m\u001b[0;34m(\u001b[0m\u001b[0mrandom\u001b[0m\u001b[0;34m.\u001b[0m\u001b[0mchoice\u001b[0m\u001b[0;34m(\u001b[0m\u001b[0;34m'abcdefghijklmnopqrstuvwxyz'\u001b[0m\u001b[0;34m)\u001b[0m \u001b[0;32mfor\u001b[0m \u001b[0m_\u001b[0m \u001b[0;32min\u001b[0m \u001b[0mrange\u001b[0m\u001b[0;34m(\u001b[0m\u001b[0;36m5\u001b[0m\u001b[0;34m)\u001b[0m\u001b[0;34m)\u001b[0m\u001b[0;34m\u001b[0m\u001b[0;34m\u001b[0m\u001b[0m\n\u001b[1;32m      5\u001b[0m   \u001b[0mgender\u001b[0m\u001b[0;34m=\u001b[0m\u001b[0mrandom\u001b[0m\u001b[0;34m.\u001b[0m\u001b[0mchoice\u001b[0m\u001b[0;34m(\u001b[0m\u001b[0;34m[\u001b[0m\u001b[0;34m\"M\"\u001b[0m\u001b[0;34m,\u001b[0m\u001b[0;34m\"F\"\u001b[0m\u001b[0;34m]\u001b[0m\u001b[0;34m)\u001b[0m\u001b[0;34m\u001b[0m\u001b[0;34m\u001b[0m\u001b[0m\n",
            "\u001b[0;31mNameError\u001b[0m: name 'pd' is not defined"
          ]
        }
      ],
      "source": [
        "import random\n",
        "df=pd.DataFrame(data)\n",
        "for _ in range(5):\n",
        "  name=''.join(random.choice('abcdefghijklmnopqrstuvwxyz') for _ in range(5))\n",
        "  gender=random.choice([\"M\",\"F\"])\n",
        "  age=random.randint(18,60)\n",
        "  height=random.randint(150,200)\n",
        "  weight=random.uniform(50,100)\n",
        "df=df.append({\"Name\":name, \"Gender\":gender, \"Age\":age, \"Height(In cm)\":height, \"Weight(In kg)\":weight},ignore_index=True)\n"
      ]
    },
    {
      "cell_type": "code",
      "execution_count": null,
      "metadata": {
        "colab": {
          "base_uri": "https://localhost:8080/",
          "height": 141
        },
        "id": "Wbph8qLpjOnB",
        "outputId": "580a5a30-dba3-4ffd-f8c1-43d6a333ef61"
      },
      "outputs": [
        {
          "output_type": "error",
          "ename": "NameError",
          "evalue": "name 'df' is not defined",
          "traceback": [
            "\u001b[0;31m---------------------------------------------------------------------------\u001b[0m",
            "\u001b[0;31mNameError\u001b[0m                                 Traceback (most recent call last)",
            "\u001b[0;32m<ipython-input-2-46b4badfb547>\u001b[0m in \u001b[0;36m<cell line: 1>\u001b[0;34m()\u001b[0m\n\u001b[0;32m----> 1\u001b[0;31m \u001b[0mdf\u001b[0m\u001b[0;34m[\u001b[0m\u001b[0;34m'BMI'\u001b[0m\u001b[0;34m]\u001b[0m\u001b[0;34m=\u001b[0m\u001b[0mdf\u001b[0m\u001b[0;34m[\u001b[0m\u001b[0;34m'Weights( In kg)'\u001b[0m\u001b[0;34m]\u001b[0m\u001b[0;34m/\u001b[0m\u001b[0;34m(\u001b[0m\u001b[0;34m(\u001b[0m\u001b[0;34m)\u001b[0m\u001b[0;34m)\u001b[0m\u001b[0;34m\u001b[0m\u001b[0;34m\u001b[0m\u001b[0m\n\u001b[0m",
            "\u001b[0;31mNameError\u001b[0m: name 'df' is not defined"
          ]
        }
      ],
      "source": [
        "df['BMI']=df['Weights( In kg)']/(())"
      ]
    }
  ],
  "metadata": {
    "colab": {
      "provenance": []
    },
    "kernelspec": {
      "display_name": "Python 3",
      "name": "python3"
    },
    "language_info": {
      "name": "python"
    }
  },
  "nbformat": 4,
  "nbformat_minor": 0
}